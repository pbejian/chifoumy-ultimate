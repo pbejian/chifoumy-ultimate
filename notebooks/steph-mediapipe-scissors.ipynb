{
 "cells": [
  {
   "cell_type": "code",
   "execution_count": 1,
   "metadata": {},
   "outputs": [],
   "source": [
    "import os\n",
    "import cv2\n",
    "import mediapipe as mp\n",
    "import pandas as pd"
   ]
  },
  {
   "cell_type": "code",
   "execution_count": 2,
   "metadata": {},
   "outputs": [
    {
     "data": {
      "text/plain": [
       "750"
      ]
     },
     "execution_count": 2,
     "metadata": {},
     "output_type": "execute_result"
    }
   ],
   "source": [
    "path = '../raw_data/scissors/'\n",
    "scissors_image_files = []\n",
    "\n",
    "for filename in os.listdir(path):\n",
    "    f = os.path.join(path, filename)\n",
    "    if os.path.isfile(f):\n",
    "        scissors_image_files.append(f)\n",
    "len(scissors_image_files)"
   ]
  },
  {
   "cell_type": "code",
   "execution_count": 9,
   "metadata": {},
   "outputs": [],
   "source": [
    "mp_hands = mp.solutions.hands\n",
    "hands_list = []"
   ]
  },
  {
   "cell_type": "code",
   "execution_count": 26,
   "metadata": {},
   "outputs": [],
   "source": [
    "with mp_hands.Hands(static_image_mode=True,\n",
    "                    max_num_hands=2,\n",
    "                    min_detection_confidence=0.5) as hands:\n",
    "    for idx, file in enumerate(scissors_image_files):\n",
    "\n",
    "        # image = cv2.imread(file)\n",
    "        # image = cv2.flip(cv2.imread(file), 1)\n",
    "        # image = cv2.rotate(cv2.imread(file), cv2.ROTATE_90_COUNTERCLOCKWISE)\n",
    "        image = cv2.rotate(cv2.imread(file), cv2.ROTATE_90_CLOCKWISE)\n",
    "\n",
    "        results = hands.process(cv2.cvtColor(image, cv2.COLOR_BGR2RGB))\n",
    "\n",
    "        if not results.multi_hand_landmarks:\n",
    "            continue\n",
    "\n",
    "        for hand_landmarks in results.multi_hand_landmarks:\n",
    "            fingers = {'filename':file}\n",
    "            for i, finger in enumerate(hand_landmarks.landmark, start=1):\n",
    "                fingers[f'{i}x'] = (finger.x)\n",
    "                fingers[f'{i}y'] = (finger.y)\n",
    "                fingers[f'{i}z'] = (finger.z)\n",
    "            hands_list.append(fingers)"
   ]
  },
  {
   "cell_type": "code",
   "execution_count": 27,
   "metadata": {},
   "outputs": [
    {
     "data": {
      "text/plain": [
       "2715"
      ]
     },
     "execution_count": 27,
     "metadata": {},
     "output_type": "execute_result"
    }
   ],
   "source": [
    "d = len(hands_list)\n",
    "d"
   ]
  },
  {
   "cell_type": "code",
   "execution_count": 28,
   "metadata": {},
   "outputs": [],
   "source": [
    "one = a\n",
    "two = b - a\n",
    "three = c - b\n",
    "four = d - c"
   ]
  },
  {
   "cell_type": "code",
   "execution_count": 29,
   "metadata": {},
   "outputs": [
    {
     "data": {
      "text/plain": [
       "(680, 685, 665, 685)"
      ]
     },
     "execution_count": 29,
     "metadata": {},
     "output_type": "execute_result"
    }
   ],
   "source": [
    "one, two, three, four"
   ]
  },
  {
   "cell_type": "code",
   "execution_count": 30,
   "metadata": {},
   "outputs": [
    {
     "data": {
      "text/plain": [
       "(2715, 65)"
      ]
     },
     "execution_count": 30,
     "metadata": {},
     "output_type": "execute_result"
    }
   ],
   "source": [
    "scissors_df = pd.DataFrame(hands_list)\n",
    "scissors_df['target'] = 2\n",
    "scissors_df.shape"
   ]
  },
  {
   "cell_type": "code",
   "execution_count": 31,
   "metadata": {},
   "outputs": [
    {
     "data": {
      "text/html": [
       "<div>\n",
       "<style scoped>\n",
       "    .dataframe tbody tr th:only-of-type {\n",
       "        vertical-align: middle;\n",
       "    }\n",
       "\n",
       "    .dataframe tbody tr th {\n",
       "        vertical-align: top;\n",
       "    }\n",
       "\n",
       "    .dataframe thead th {\n",
       "        text-align: right;\n",
       "    }\n",
       "</style>\n",
       "<table border=\"1\" class=\"dataframe\">\n",
       "  <thead>\n",
       "    <tr style=\"text-align: right;\">\n",
       "      <th></th>\n",
       "      <th>filename</th>\n",
       "      <th>1x</th>\n",
       "      <th>1y</th>\n",
       "      <th>1z</th>\n",
       "      <th>2x</th>\n",
       "      <th>2y</th>\n",
       "      <th>2z</th>\n",
       "      <th>3x</th>\n",
       "      <th>3y</th>\n",
       "      <th>3z</th>\n",
       "      <th>...</th>\n",
       "      <th>19x</th>\n",
       "      <th>19y</th>\n",
       "      <th>19z</th>\n",
       "      <th>20x</th>\n",
       "      <th>20y</th>\n",
       "      <th>20z</th>\n",
       "      <th>21x</th>\n",
       "      <th>21y</th>\n",
       "      <th>21z</th>\n",
       "      <th>target</th>\n",
       "    </tr>\n",
       "  </thead>\n",
       "  <tbody>\n",
       "    <tr>\n",
       "      <th>0</th>\n",
       "      <td>../raw_data/scissors/dFlxUAypUgfOZqoV.png</td>\n",
       "      <td>0.972548</td>\n",
       "      <td>0.503541</td>\n",
       "      <td>0.000002</td>\n",
       "      <td>0.888238</td>\n",
       "      <td>0.670902</td>\n",
       "      <td>-0.020812</td>\n",
       "      <td>0.766331</td>\n",
       "      <td>0.698617</td>\n",
       "      <td>-0.052920</td>\n",
       "      <td>...</td>\n",
       "      <td>0.682782</td>\n",
       "      <td>0.291712</td>\n",
       "      <td>-0.138871</td>\n",
       "      <td>0.707206</td>\n",
       "      <td>0.337388</td>\n",
       "      <td>-0.104174</td>\n",
       "      <td>0.752084</td>\n",
       "      <td>0.343444</td>\n",
       "      <td>-0.066942</td>\n",
       "      <td>2</td>\n",
       "    </tr>\n",
       "    <tr>\n",
       "      <th>1</th>\n",
       "      <td>../raw_data/scissors/b4Qm4ZK5AAUQo1Ax.png</td>\n",
       "      <td>0.883314</td>\n",
       "      <td>0.585556</td>\n",
       "      <td>0.000001</td>\n",
       "      <td>0.758897</td>\n",
       "      <td>0.738274</td>\n",
       "      <td>-0.000408</td>\n",
       "      <td>0.619175</td>\n",
       "      <td>0.731899</td>\n",
       "      <td>-0.014292</td>\n",
       "      <td>...</td>\n",
       "      <td>0.554995</td>\n",
       "      <td>0.351059</td>\n",
       "      <td>-0.067778</td>\n",
       "      <td>0.577250</td>\n",
       "      <td>0.405897</td>\n",
       "      <td>-0.036943</td>\n",
       "      <td>0.619907</td>\n",
       "      <td>0.421913</td>\n",
       "      <td>-0.008412</td>\n",
       "      <td>2</td>\n",
       "    </tr>\n",
       "    <tr>\n",
       "      <th>2</th>\n",
       "      <td>../raw_data/scissors/msOEQAWveiL7r5rp.png</td>\n",
       "      <td>0.910765</td>\n",
       "      <td>0.598994</td>\n",
       "      <td>0.000001</td>\n",
       "      <td>0.836391</td>\n",
       "      <td>0.407034</td>\n",
       "      <td>-0.027133</td>\n",
       "      <td>0.722001</td>\n",
       "      <td>0.359720</td>\n",
       "      <td>-0.052438</td>\n",
       "      <td>...</td>\n",
       "      <td>0.619692</td>\n",
       "      <td>0.700938</td>\n",
       "      <td>-0.096034</td>\n",
       "      <td>0.657051</td>\n",
       "      <td>0.666762</td>\n",
       "      <td>-0.070877</td>\n",
       "      <td>0.697424</td>\n",
       "      <td>0.658073</td>\n",
       "      <td>-0.042735</td>\n",
       "      <td>2</td>\n",
       "    </tr>\n",
       "    <tr>\n",
       "      <th>3</th>\n",
       "      <td>../raw_data/scissors/FfCLY0qhfyOoyam8.png</td>\n",
       "      <td>0.942804</td>\n",
       "      <td>0.452263</td>\n",
       "      <td>0.000001</td>\n",
       "      <td>0.843116</td>\n",
       "      <td>0.593405</td>\n",
       "      <td>-0.018791</td>\n",
       "      <td>0.718336</td>\n",
       "      <td>0.579437</td>\n",
       "      <td>-0.043036</td>\n",
       "      <td>...</td>\n",
       "      <td>0.655527</td>\n",
       "      <td>0.150431</td>\n",
       "      <td>-0.129719</td>\n",
       "      <td>0.675466</td>\n",
       "      <td>0.203113</td>\n",
       "      <td>-0.098801</td>\n",
       "      <td>0.716827</td>\n",
       "      <td>0.225120</td>\n",
       "      <td>-0.063351</td>\n",
       "      <td>2</td>\n",
       "    </tr>\n",
       "    <tr>\n",
       "      <th>4</th>\n",
       "      <td>../raw_data/scissors/7jLYhf025vHEX7kp.png</td>\n",
       "      <td>0.916129</td>\n",
       "      <td>0.525466</td>\n",
       "      <td>0.000002</td>\n",
       "      <td>0.825934</td>\n",
       "      <td>0.410975</td>\n",
       "      <td>-0.030042</td>\n",
       "      <td>0.722051</td>\n",
       "      <td>0.406688</td>\n",
       "      <td>-0.057272</td>\n",
       "      <td>...</td>\n",
       "      <td>0.715275</td>\n",
       "      <td>0.790811</td>\n",
       "      <td>-0.111477</td>\n",
       "      <td>0.755227</td>\n",
       "      <td>0.748631</td>\n",
       "      <td>-0.089387</td>\n",
       "      <td>0.783695</td>\n",
       "      <td>0.725269</td>\n",
       "      <td>-0.060035</td>\n",
       "      <td>2</td>\n",
       "    </tr>\n",
       "  </tbody>\n",
       "</table>\n",
       "<p>5 rows × 65 columns</p>\n",
       "</div>"
      ],
      "text/plain": [
       "                                    filename        1x        1y        1z  \\\n",
       "0  ../raw_data/scissors/dFlxUAypUgfOZqoV.png  0.972548  0.503541  0.000002   \n",
       "1  ../raw_data/scissors/b4Qm4ZK5AAUQo1Ax.png  0.883314  0.585556  0.000001   \n",
       "2  ../raw_data/scissors/msOEQAWveiL7r5rp.png  0.910765  0.598994  0.000001   \n",
       "3  ../raw_data/scissors/FfCLY0qhfyOoyam8.png  0.942804  0.452263  0.000001   \n",
       "4  ../raw_data/scissors/7jLYhf025vHEX7kp.png  0.916129  0.525466  0.000002   \n",
       "\n",
       "         2x        2y        2z        3x        3y        3z  ...       19x  \\\n",
       "0  0.888238  0.670902 -0.020812  0.766331  0.698617 -0.052920  ...  0.682782   \n",
       "1  0.758897  0.738274 -0.000408  0.619175  0.731899 -0.014292  ...  0.554995   \n",
       "2  0.836391  0.407034 -0.027133  0.722001  0.359720 -0.052438  ...  0.619692   \n",
       "3  0.843116  0.593405 -0.018791  0.718336  0.579437 -0.043036  ...  0.655527   \n",
       "4  0.825934  0.410975 -0.030042  0.722051  0.406688 -0.057272  ...  0.715275   \n",
       "\n",
       "        19y       19z       20x       20y       20z       21x       21y  \\\n",
       "0  0.291712 -0.138871  0.707206  0.337388 -0.104174  0.752084  0.343444   \n",
       "1  0.351059 -0.067778  0.577250  0.405897 -0.036943  0.619907  0.421913   \n",
       "2  0.700938 -0.096034  0.657051  0.666762 -0.070877  0.697424  0.658073   \n",
       "3  0.150431 -0.129719  0.675466  0.203113 -0.098801  0.716827  0.225120   \n",
       "4  0.790811 -0.111477  0.755227  0.748631 -0.089387  0.783695  0.725269   \n",
       "\n",
       "        21z  target  \n",
       "0 -0.066942       2  \n",
       "1 -0.008412       2  \n",
       "2 -0.042735       2  \n",
       "3 -0.063351       2  \n",
       "4 -0.060035       2  \n",
       "\n",
       "[5 rows x 65 columns]"
      ]
     },
     "execution_count": 31,
     "metadata": {},
     "output_type": "execute_result"
    }
   ],
   "source": [
    "scissors_df.head()"
   ]
  },
  {
   "cell_type": "code",
   "execution_count": 32,
   "metadata": {},
   "outputs": [],
   "source": [
    "scissors_df.to_csv('../csv/scissors_df.csv', index=False)"
   ]
  }
 ],
 "metadata": {
  "kernelspec": {
   "display_name": "Python 3.10.6 64-bit ('chifoumy')",
   "language": "python",
   "name": "python3"
  },
  "language_info": {
   "codemirror_mode": {
    "name": "ipython",
    "version": 3
   },
   "file_extension": ".py",
   "mimetype": "text/x-python",
   "name": "python",
   "nbconvert_exporter": "python",
   "pygments_lexer": "ipython3",
   "version": "3.10.6"
  },
  "orig_nbformat": 4,
  "vscode": {
   "interpreter": {
    "hash": "f1ec65ce834c719475667583cc042811bd097a4010e12d8681d032555d01b54a"
   }
  }
 },
 "nbformat": 4,
 "nbformat_minor": 2
}
