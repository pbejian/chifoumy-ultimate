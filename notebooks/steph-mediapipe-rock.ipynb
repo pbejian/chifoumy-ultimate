{
 "cells": [
  {
   "cell_type": "code",
   "execution_count": 2,
   "metadata": {},
   "outputs": [],
   "source": [
    "import os\n",
    "import cv2\n",
    "import mediapipe as mp\n",
    "import pandas as pd"
   ]
  },
  {
   "cell_type": "code",
   "execution_count": 3,
   "metadata": {},
   "outputs": [
    {
     "data": {
      "text/plain": [
       "726"
      ]
     },
     "execution_count": 3,
     "metadata": {},
     "output_type": "execute_result"
    }
   ],
   "source": [
    "path = '../raw_data/rock/'\n",
    "rock_image_files = []\n",
    "\n",
    "for filename in os.listdir(path):\n",
    "    f = os.path.join(path, filename)\n",
    "    if os.path.isfile(f):\n",
    "        rock_image_files.append(f)\n",
    "len(rock_image_files)"
   ]
  },
  {
   "cell_type": "code",
   "execution_count": 13,
   "metadata": {},
   "outputs": [],
   "source": [
    "mp_hands = mp.solutions.hands\n",
    "hands_list = []"
   ]
  },
  {
   "cell_type": "code",
   "execution_count": 36,
   "metadata": {},
   "outputs": [],
   "source": [
    "with mp_hands.Hands(static_image_mode=True,\n",
    "                    max_num_hands=2,\n",
    "                    min_detection_confidence=0.5) as hands:\n",
    "    for idx, file in enumerate(rock_image_files):\n",
    "\n",
    "        # image = cv2.imread(file)\n",
    "        # image = cv2.flip(cv2.imread(file), 1)\n",
    "        # image = cv2.rotate(cv2.imread(file), cv2.ROTATE_90_COUNTERCLOCKWISE)\n",
    "        image = cv2.rotate(cv2.imread(file), cv2.ROTATE_90_CLOCKWISE)\n",
    "\n",
    "        results = hands.process(cv2.cvtColor(image, cv2.COLOR_BGR2RGB))\n",
    "\n",
    "        if not results.multi_hand_landmarks:\n",
    "            continue\n",
    "\n",
    "        for hand_landmarks in results.multi_hand_landmarks:\n",
    "            fingers = {'filename':file}\n",
    "            for i, finger in enumerate(hand_landmarks.landmark, start=1):\n",
    "                fingers[f'{i}x'] = (finger.x)\n",
    "                fingers[f'{i}y'] = (finger.y)\n",
    "                fingers[f'{i}z'] = (finger.z)\n",
    "            hands_list.append(fingers)"
   ]
  },
  {
   "cell_type": "code",
   "execution_count": 37,
   "metadata": {},
   "outputs": [
    {
     "data": {
      "text/plain": [
       "2701"
      ]
     },
     "execution_count": 37,
     "metadata": {},
     "output_type": "execute_result"
    }
   ],
   "source": [
    "d = len(hands_list)\n",
    "d"
   ]
  },
  {
   "cell_type": "code",
   "execution_count": 38,
   "metadata": {},
   "outputs": [],
   "source": [
    "one = a\n",
    "two = b - a \n",
    "three = c - b\n",
    "four = d - c"
   ]
  },
  {
   "cell_type": "code",
   "execution_count": 39,
   "metadata": {},
   "outputs": [
    {
     "data": {
      "text/plain": [
       "(670, 679, 678, 674)"
      ]
     },
     "execution_count": 39,
     "metadata": {},
     "output_type": "execute_result"
    }
   ],
   "source": [
    "one, two, three, four"
   ]
  },
  {
   "cell_type": "code",
   "execution_count": 40,
   "metadata": {},
   "outputs": [
    {
     "data": {
      "text/plain": [
       "(2701, 65)"
      ]
     },
     "execution_count": 40,
     "metadata": {},
     "output_type": "execute_result"
    }
   ],
   "source": [
    "rock_df = pd.DataFrame(hands_list)\n",
    "rock_df['target'] = 0\n",
    "rock_df.shape"
   ]
  },
  {
   "cell_type": "code",
   "execution_count": 41,
   "metadata": {},
   "outputs": [
    {
     "data": {
      "text/html": [
       "<div>\n",
       "<style scoped>\n",
       "    .dataframe tbody tr th:only-of-type {\n",
       "        vertical-align: middle;\n",
       "    }\n",
       "\n",
       "    .dataframe tbody tr th {\n",
       "        vertical-align: top;\n",
       "    }\n",
       "\n",
       "    .dataframe thead th {\n",
       "        text-align: right;\n",
       "    }\n",
       "</style>\n",
       "<table border=\"1\" class=\"dataframe\">\n",
       "  <thead>\n",
       "    <tr style=\"text-align: right;\">\n",
       "      <th></th>\n",
       "      <th>filename</th>\n",
       "      <th>1x</th>\n",
       "      <th>1y</th>\n",
       "      <th>1z</th>\n",
       "      <th>2x</th>\n",
       "      <th>2y</th>\n",
       "      <th>2z</th>\n",
       "      <th>3x</th>\n",
       "      <th>3y</th>\n",
       "      <th>3z</th>\n",
       "      <th>...</th>\n",
       "      <th>19x</th>\n",
       "      <th>19y</th>\n",
       "      <th>19z</th>\n",
       "      <th>20x</th>\n",
       "      <th>20y</th>\n",
       "      <th>20z</th>\n",
       "      <th>21x</th>\n",
       "      <th>21y</th>\n",
       "      <th>21z</th>\n",
       "      <th>target</th>\n",
       "    </tr>\n",
       "  </thead>\n",
       "  <tbody>\n",
       "    <tr>\n",
       "      <th>0</th>\n",
       "      <td>../raw_data/rock/BTcHjuerLAYWzx8S.png</td>\n",
       "      <td>0.742721</td>\n",
       "      <td>0.331622</td>\n",
       "      <td>-9.951561e-07</td>\n",
       "      <td>0.614224</td>\n",
       "      <td>0.563904</td>\n",
       "      <td>0.025367</td>\n",
       "      <td>0.478486</td>\n",
       "      <td>0.609329</td>\n",
       "      <td>0.039843</td>\n",
       "      <td>...</td>\n",
       "      <td>0.392409</td>\n",
       "      <td>0.211523</td>\n",
       "      <td>0.051309</td>\n",
       "      <td>0.431528</td>\n",
       "      <td>0.244109</td>\n",
       "      <td>0.073319</td>\n",
       "      <td>0.475566</td>\n",
       "      <td>0.242198</td>\n",
       "      <td>0.087693</td>\n",
       "      <td>0</td>\n",
       "    </tr>\n",
       "    <tr>\n",
       "      <th>1</th>\n",
       "      <td>../raw_data/rock/QF1S0sqb6YGe4GNP.png</td>\n",
       "      <td>0.919101</td>\n",
       "      <td>0.755081</td>\n",
       "      <td>-2.621960e-07</td>\n",
       "      <td>0.885544</td>\n",
       "      <td>0.508022</td>\n",
       "      <td>0.010667</td>\n",
       "      <td>0.787720</td>\n",
       "      <td>0.349530</td>\n",
       "      <td>0.007652</td>\n",
       "      <td>...</td>\n",
       "      <td>0.581794</td>\n",
       "      <td>0.716809</td>\n",
       "      <td>-0.035312</td>\n",
       "      <td>0.619187</td>\n",
       "      <td>0.709276</td>\n",
       "      <td>-0.004919</td>\n",
       "      <td>0.655795</td>\n",
       "      <td>0.736217</td>\n",
       "      <td>0.012894</td>\n",
       "      <td>0</td>\n",
       "    </tr>\n",
       "    <tr>\n",
       "      <th>2</th>\n",
       "      <td>../raw_data/rock/1vvcitV1s17gKdbn.png</td>\n",
       "      <td>0.819575</td>\n",
       "      <td>0.423356</td>\n",
       "      <td>-4.002425e-07</td>\n",
       "      <td>0.702106</td>\n",
       "      <td>0.207600</td>\n",
       "      <td>0.041758</td>\n",
       "      <td>0.570862</td>\n",
       "      <td>0.139804</td>\n",
       "      <td>0.056670</td>\n",
       "      <td>...</td>\n",
       "      <td>0.452767</td>\n",
       "      <td>0.585594</td>\n",
       "      <td>0.016478</td>\n",
       "      <td>0.490761</td>\n",
       "      <td>0.566222</td>\n",
       "      <td>0.050018</td>\n",
       "      <td>0.534528</td>\n",
       "      <td>0.566381</td>\n",
       "      <td>0.067846</td>\n",
       "      <td>0</td>\n",
       "    </tr>\n",
       "    <tr>\n",
       "      <th>3</th>\n",
       "      <td>../raw_data/rock/5qDxuZZrlJjTW8ld.png</td>\n",
       "      <td>0.942459</td>\n",
       "      <td>0.287848</td>\n",
       "      <td>-8.996737e-07</td>\n",
       "      <td>0.893455</td>\n",
       "      <td>0.514780</td>\n",
       "      <td>-0.010463</td>\n",
       "      <td>0.792436</td>\n",
       "      <td>0.652192</td>\n",
       "      <td>-0.023209</td>\n",
       "      <td>...</td>\n",
       "      <td>0.615379</td>\n",
       "      <td>0.257791</td>\n",
       "      <td>-0.051159</td>\n",
       "      <td>0.649925</td>\n",
       "      <td>0.273106</td>\n",
       "      <td>-0.034622</td>\n",
       "      <td>0.689175</td>\n",
       "      <td>0.256481</td>\n",
       "      <td>-0.021628</td>\n",
       "      <td>0</td>\n",
       "    </tr>\n",
       "    <tr>\n",
       "      <th>4</th>\n",
       "      <td>../raw_data/rock/qCzy78clSmCmt5Uv.png</td>\n",
       "      <td>0.877304</td>\n",
       "      <td>0.537010</td>\n",
       "      <td>-1.153588e-06</td>\n",
       "      <td>0.783896</td>\n",
       "      <td>0.783862</td>\n",
       "      <td>0.011195</td>\n",
       "      <td>0.646503</td>\n",
       "      <td>0.908662</td>\n",
       "      <td>0.013991</td>\n",
       "      <td>...</td>\n",
       "      <td>0.525730</td>\n",
       "      <td>0.411481</td>\n",
       "      <td>0.045160</td>\n",
       "      <td>0.567388</td>\n",
       "      <td>0.437996</td>\n",
       "      <td>0.073040</td>\n",
       "      <td>0.608758</td>\n",
       "      <td>0.443855</td>\n",
       "      <td>0.086120</td>\n",
       "      <td>0</td>\n",
       "    </tr>\n",
       "  </tbody>\n",
       "</table>\n",
       "<p>5 rows × 65 columns</p>\n",
       "</div>"
      ],
      "text/plain": [
       "                                filename        1x        1y            1z  \\\n",
       "0  ../raw_data/rock/BTcHjuerLAYWzx8S.png  0.742721  0.331622 -9.951561e-07   \n",
       "1  ../raw_data/rock/QF1S0sqb6YGe4GNP.png  0.919101  0.755081 -2.621960e-07   \n",
       "2  ../raw_data/rock/1vvcitV1s17gKdbn.png  0.819575  0.423356 -4.002425e-07   \n",
       "3  ../raw_data/rock/5qDxuZZrlJjTW8ld.png  0.942459  0.287848 -8.996737e-07   \n",
       "4  ../raw_data/rock/qCzy78clSmCmt5Uv.png  0.877304  0.537010 -1.153588e-06   \n",
       "\n",
       "         2x        2y        2z        3x        3y        3z  ...       19x  \\\n",
       "0  0.614224  0.563904  0.025367  0.478486  0.609329  0.039843  ...  0.392409   \n",
       "1  0.885544  0.508022  0.010667  0.787720  0.349530  0.007652  ...  0.581794   \n",
       "2  0.702106  0.207600  0.041758  0.570862  0.139804  0.056670  ...  0.452767   \n",
       "3  0.893455  0.514780 -0.010463  0.792436  0.652192 -0.023209  ...  0.615379   \n",
       "4  0.783896  0.783862  0.011195  0.646503  0.908662  0.013991  ...  0.525730   \n",
       "\n",
       "        19y       19z       20x       20y       20z       21x       21y  \\\n",
       "0  0.211523  0.051309  0.431528  0.244109  0.073319  0.475566  0.242198   \n",
       "1  0.716809 -0.035312  0.619187  0.709276 -0.004919  0.655795  0.736217   \n",
       "2  0.585594  0.016478  0.490761  0.566222  0.050018  0.534528  0.566381   \n",
       "3  0.257791 -0.051159  0.649925  0.273106 -0.034622  0.689175  0.256481   \n",
       "4  0.411481  0.045160  0.567388  0.437996  0.073040  0.608758  0.443855   \n",
       "\n",
       "        21z  target  \n",
       "0  0.087693       0  \n",
       "1  0.012894       0  \n",
       "2  0.067846       0  \n",
       "3 -0.021628       0  \n",
       "4  0.086120       0  \n",
       "\n",
       "[5 rows x 65 columns]"
      ]
     },
     "execution_count": 41,
     "metadata": {},
     "output_type": "execute_result"
    }
   ],
   "source": [
    "rock_df.head()"
   ]
  },
  {
   "cell_type": "code",
   "execution_count": 42,
   "metadata": {},
   "outputs": [],
   "source": [
    "rock_df.to_csv('../csv/rock_df.csv', index=False)"
   ]
  }
 ],
 "metadata": {
  "kernelspec": {
   "display_name": "Python 3.10.6 64-bit ('chifoumy')",
   "language": "python",
   "name": "python3"
  },
  "language_info": {
   "codemirror_mode": {
    "name": "ipython",
    "version": 3
   },
   "file_extension": ".py",
   "mimetype": "text/x-python",
   "name": "python",
   "nbconvert_exporter": "python",
   "pygments_lexer": "ipython3",
   "version": "3.10.6"
  },
  "orig_nbformat": 4,
  "vscode": {
   "interpreter": {
    "hash": "f1ec65ce834c719475667583cc042811bd097a4010e12d8681d032555d01b54a"
   }
  }
 },
 "nbformat": 4,
 "nbformat_minor": 2
}
